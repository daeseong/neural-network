{
 "cells": [
  {
   "cell_type": "markdown",
   "metadata": {
    "id": "Q91KqmCRu64D"
   },
   "source": [
    "# **Project - Convolutional Neural Networks: Street View Housing Number Digit Recognition**\n",
    "\n",
    "# Marks: 30\n",
    "\n",
    "Welcome to the project on classification using Convolutional Neural Networks. We will continue to work with the Street View Housing Numbers (SVHN) image dataset for this project.\n",
    "\n",
    "--------------\n",
    "### **Context:** \n",
    "--------------\n",
    "\n",
    "One of the most interesting tasks in deep learning is to recognize objects in natural scenes. The ability to process visual information using machine learning algorithms can be very useful as demonstrated in various applications.\n",
    "\n",
    "The SVHN dataset contains over 600,000 labeled digits cropped from street-level photos. It is one of the most popular image recognition datasets. It has been used in neural networks created by Google to improve map quality by automatically transcribing the address numbers from a patch of pixels. The transcribed number with a known street address helps pinpoint the location of the building it represents. \n",
    "\n",
    "----------------\n",
    "### **Objective:**\n",
    "----------------\n",
    "\n",
    "Build a CNN model that can identify the digits in the images.\n",
    "\n",
    "-------------\n",
    "### **Dataset**\n",
    "-------------\n",
    "Here, we will use a subset of the original data to save some computation time. The dataset is provided as a .h5 file. The basic preprocessing steps have been done."
   ]
  },
  {
   "cell_type": "markdown",
   "metadata": {
    "id": "8z2Z7-OAs8QG"
   },
   "source": [
    "## **Mount the drive**\n",
    "Let us start by mounting the drive and importing the necessary libraries."
   ]
  },
  {
   "cell_type": "code",
   "execution_count": null,
   "metadata": {
    "colab": {
     "base_uri": "https://localhost:8080/"
    },
    "id": "03lDyQUuef7z",
    "outputId": "bebacd9d-ca97-4308-cc43-105ba483130a"
   },
   "outputs": [
    {
     "name": "stdout",
     "output_type": "stream",
     "text": [
      "Mounted at /content/drive\n"
     ]
    }
   ],
   "source": [
    "#from google.colab import drive\n",
    "#drive.mount('/content/drive')"
   ]
  },
  {
   "cell_type": "markdown",
   "metadata": {
    "id": "C8U3DUa3eNsT"
   },
   "source": [
    "## **Importing libraries**"
   ]
  },
  {
   "cell_type": "code",
   "execution_count": 1,
   "metadata": {
    "id": "-dVzeuF3eQx1"
   },
   "outputs": [],
   "source": [
    "import numpy as np\n",
    "import pandas as pd\n",
    "import matplotlib.pyplot as plt\n",
    "import seaborn as sns\n",
    "\n",
    "from sklearn.model_selection import train_test_split\n",
    "from sklearn.preprocessing import MinMaxScaler\n",
    "\n",
    "import tensorflow as tf\n",
    "from tensorflow.keras.models import Sequential\n",
    "from tensorflow.keras.layers import Dense, Conv2D, MaxPool2D, BatchNormalization, Dropout, Flatten, LeakyReLU\n",
    "from tensorflow.keras.utils import to_categorical"
   ]
  },
  {
   "cell_type": "markdown",
   "metadata": {
    "id": "ucnevGLoyKf_"
   },
   "source": [
    "Let us check for the version of TensorFlow."
   ]
  },
  {
   "cell_type": "code",
   "execution_count": 2,
   "metadata": {
    "colab": {
     "base_uri": "https://localhost:8080/"
    },
    "id": "W5as47YxyJVk",
    "outputId": "25cddd0e-36e3-40ba-b63d-55a140cf60d7"
   },
   "outputs": [
    {
     "name": "stdout",
     "output_type": "stream",
     "text": [
      "2.8.0\n"
     ]
    }
   ],
   "source": [
    "print(tf.__version__)"
   ]
  },
  {
   "cell_type": "markdown",
   "metadata": {
    "id": "8lsux2ZwyTTR"
   },
   "source": [
    "## **Load the dataset**\n",
    "- Let us now load the dataset that is available as a .h5 file.\n",
    "- Split the data into train and the test dataset"
   ]
  },
  {
   "cell_type": "code",
   "execution_count": 16,
   "metadata": {
    "id": "BApX9qgNsqV0",
    "scrolled": true
   },
   "outputs": [],
   "source": [
    "import h5py\n",
    "\n",
    "# Open the file as read only\n",
    "# User can make changes in the path as required\n",
    "h5f = h5py.File('SVHN_single_grey1.h5', 'r')\n",
    "\n",
    "# Load the training and the test set\n",
    "X_train = h5f['X_train'][:]\n",
    "y_train = h5f['y_train'][:]\n",
    "X_test = h5f['X_test'][:]\n",
    "y_test = h5f['y_test'][:]\n",
    "\n",
    "\n",
    "# Close this file\n",
    "h5f.close()"
   ]
  },
  {
   "cell_type": "markdown",
   "metadata": {
    "id": "hVe0CYpUgj7w"
   },
   "source": [
    "Let's check the number of images in the training and testing data."
   ]
  },
  {
   "cell_type": "code",
   "execution_count": 17,
   "metadata": {
    "colab": {
     "base_uri": "https://localhost:8080/"
    },
    "id": "y3lwKpOefkpA",
    "outputId": "9c7b2146-6d61-4710-c2c3-f68ddfa0b942"
   },
   "outputs": [
    {
     "data": {
      "text/plain": [
       "(42000, 18000)"
      ]
     },
     "execution_count": 17,
     "metadata": {},
     "output_type": "execute_result"
    }
   ],
   "source": [
    "len(X_train), len(X_test)"
   ]
  },
  {
   "cell_type": "markdown",
   "metadata": {
    "id": "akTUOfLlgwoM"
   },
   "source": [
    "**Observations**\n",
    "- There are 42,000 images in the training data and 18,000 images in the testing data. "
   ]
  },
  {
   "cell_type": "markdown",
   "metadata": {
    "id": "kxODV6HKykuc"
   },
   "source": [
    "## **Visualizing images**\n",
    "- Use X_train to visualize the first 10 images\n",
    "- Use Y_train to print the first 10 labels"
   ]
  },
  {
   "cell_type": "markdown",
   "metadata": {
    "id": "Rn5IZYv-e2TC"
   },
   "source": [
    "#### **Question 1: Complete the below code to visualize the first 10 images from the training data (1 Mark)**"
   ]
  },
  {
   "cell_type": "code",
   "execution_count": 18,
   "metadata": {
    "colab": {
     "base_uri": "https://localhost:8080/",
     "height": 95
    },
    "id": "Bvsc8ytHsqWD",
    "outputId": "b00fa66c-c932-4803-8328-8dee0f5a2660"
   },
   "outputs": [
    {
     "data": {
      "image/png": "[encoded data removed]",
      "text/plain": [
       "<Figure size 720x72 with 10 Axes>"
      ]
     },
     "metadata": {
      "needs_background": "light"
     },
     "output_type": "display_data"
    },
    {
     "name": "stdout",
     "output_type": "stream",
     "text": [
      "label for each of the above image: [2 6 7 4 4 0 3 0 7 3]\n"
     ]
    }
   ],
   "source": [
    "# visualizing the first 10 images in the dataset and their labels\n",
    "plt.figure(figsize=(10, 1))\n",
    "\n",
    "for i in range(10):\n",
    "    plt.subplot(1, 10, i+1)\n",
    "    plt.imshow(X_train[i], cmap=\"gray\") # write the function to visualize images\n",
    "    plt.axis('off')\n",
    "\n",
    "plt.show()\n",
    "print('label for each of the above image: %s' % (y_train[0:10]))"
   ]
  },
  {
   "cell_type": "markdown",
   "metadata": {
    "id": "kzoyeXHOy80N"
   },
   "source": [
    "## **Data Preparation**\n",
    "\n",
    "- Print the first image in the train image and figure out the shape of the images\n",
    "- Reshape the train and the test dataset to make them fit the first convolutional operation that we will create later. Figure out the required shape\n",
    "- Normalize the train and the test dataset by dividing by 255\n",
    "- Print the new shapes of the train and the test set\n",
    "- One-hot encode the target variable"
   ]
  },
  {
   "cell_type": "code",
   "execution_count": 19,
   "metadata": {
    "colab": {
     "base_uri": "https://localhost:8080/"
    },
    "id": "NqndzQXng9rL",
    "outputId": "df42ba83-5331-4aa2-ed06-923531fb86d8"
   },
   "outputs": [
    {
     "name": "stdout",
     "output_type": "stream",
     "text": [
      "Shape: (32, 32)\n",
      "\n",
      "First image:\n",
      " [[ 33.0704  30.2601  26.852  ...  71.4471  58.2204  42.9939]\n",
      " [ 25.2283  25.5533  29.9765 ... 113.0209 103.3639  84.2949]\n",
      " [ 26.2775  22.6137  40.4763 ... 113.3028 121.775  115.4228]\n",
      " ...\n",
      " [ 28.5502  36.212   45.0801 ...  24.1359  25.0927  26.0603]\n",
      " [ 38.4352  26.4733  23.2717 ...  28.1094  29.4683  30.0661]\n",
      " [ 50.2984  26.0773  24.0389 ...  49.6682  50.853   53.0377]]\n"
     ]
    }
   ],
   "source": [
    "# Shape of the images and the first image\n",
    "\n",
    "print(\"Shape:\", X_train[0].shape)\n",
    "print()\n",
    "print(\"First image:\\n\", X_train[0])"
   ]
  },
  {
   "cell_type": "code",
   "execution_count": 20,
   "metadata": {
    "id": "D9YPwf9ysqWU"
   },
   "outputs": [],
   "source": [
    "# Reshaping the dataset to flatten them. Remember that we always have to give a 4D array as input to CNNs\n",
    "\n",
    "X_train = X_train.reshape(X_train.shape[0], 32,32,1)\n",
    "X_test = X_test.reshape(X_test.shape[0], 32,32,1)"
   ]
  },
  {
   "cell_type": "code",
   "execution_count": 21,
   "metadata": {
    "id": "q_yUUTp_mUzB"
   },
   "outputs": [],
   "source": [
    "# Normalize inputs from 0-255 to 0-1\n",
    "\n",
    "X_train = X_train / 255.0\n",
    "X_test = X_test / 255.0"
   ]
  },
  {
   "cell_type": "code",
   "execution_count": 22,
   "metadata": {
    "colab": {
     "base_uri": "https://localhost:8080/"
    },
    "id": "t7FSqOpamWkH",
    "outputId": "f93521cc-0694-43eb-f13c-74532af95f46"
   },
   "outputs": [
    {
     "name": "stdout",
     "output_type": "stream",
     "text": [
      "Training set: (42000, 32, 32, 1) (42000,)\n",
      "Test set: (18000, 32, 32, 1) (18000,)\n"
     ]
    }
   ],
   "source": [
    "# New shape \n",
    "\n",
    "print('Training set:', X_train.shape, y_train.shape)\n",
    "print('Test set:', X_test.shape, y_test.shape)"
   ]
  },
  {
   "cell_type": "markdown",
   "metadata": {
    "id": "YP92jacue2TE"
   },
   "source": [
    "#### **Question 2: One-hot encode the labels in the target variable y_train and y_test (2 Marks)**"
   ]
  },
  {
   "cell_type": "code",
   "execution_count": 23,
   "metadata": {
    "colab": {
     "base_uri": "https://localhost:8080/"
    },
    "id": "zL0lYER4sqWw",
    "outputId": "d2f4fb3a-b0d0-4150-85e3-3316603c2570"
   },
   "outputs": [
    {
     "data": {
      "text/plain": [
       "array([[0., 1., 0., ..., 0., 0., 0.],\n",
       "       [0., 0., 0., ..., 1., 0., 0.],\n",
       "       [0., 0., 1., ..., 0., 0., 0.],\n",
       "       ...,\n",
       "       [0., 0., 0., ..., 1., 0., 0.],\n",
       "       [0., 0., 0., ..., 0., 0., 1.],\n",
       "       [0., 0., 1., ..., 0., 0., 0.]], dtype=float32)"
      ]
     },
     "execution_count": 23,
     "metadata": {},
     "output_type": "execute_result"
    }
   ],
   "source": [
    "#Write the function and appropriate variable name to one-hot encode the output\n",
    "\n",
    "y_train = to_categorical(y_train)\n",
    "y_test = to_categorical(y_test)\n",
    "\n",
    "#test labels\n",
    "y_test"
   ]
  },
  {
   "cell_type": "markdown",
   "metadata": {
    "id": "ViqPOTquCF76"
   },
   "source": [
    "- Notice that each entry of y_test is a one-hot encoded vector instead of a single label."
   ]
  },
  {
   "cell_type": "markdown",
   "metadata": {
    "id": "yH-gVrzuByNA"
   },
   "source": [
    "## **Model Building**\n",
    "\n",
    "Now, we have done data preprocessing, let's build a CNN model."
   ]
  },
  {
   "cell_type": "code",
   "execution_count": 24,
   "metadata": {
    "id": "eaGr-3Noe2TF"
   },
   "outputs": [],
   "source": [
    "#Fixing the seed for random number generators\n",
    "np.random.seed(42)\n",
    "import random\n",
    "random.seed(42)\n",
    "tf.random.set_seed(42)"
   ]
  },
  {
   "cell_type": "markdown",
   "metadata": {
    "id": "UJDUoaEj1d6e"
   },
   "source": [
    "### **Model Architecture**\n",
    "- Write a function that returns a sequential model with the following architecture\n",
    " - First Convolutional layer with **16 filters and kernel size of 3x3**. Use the **'same' padding** and provide an **apt input shape**\n",
    " - Add a **LeakyRelu layer** with the **slope equal to 0.1**\n",
    " - Second Convolutional layer with **32 filters and kernel size of 3x3 with 'same' padding**\n",
    " - Another **LeakyRelu** with the **slope equal to 0.1**\n",
    " - A **max-pooling layer** with a **pool size of 2x2**\n",
    " - **Flatten** the output from the previous layer\n",
    " - Add a **dense layer with 32 nodes**\n",
    " - Add a **LeakyRelu layer with slope equal to 0.1**\n",
    " - Add the final **output layer with nodes equal to the number of classes** and **softmax activation**\n",
    " - Compile the model with the **categorical_crossentropy loss, adam optimizers (learning_rate = 0.001), and accuracy metric**. Do not fit the model here, just return the compiled model\n",
    "- Call the function and store the model in a new variable\n",
    "- Print the summary of the model.\n",
    "- Fit the model on the train data with a **validation split of 0.2, batch size = 32, verbose = 1, and 20 epochs**. Store the model building history to use later for visualization."
   ]
  },
  {
   "cell_type": "markdown",
   "metadata": {
    "id": "Uw8pZcNwe2TG"
   },
   "source": [
    "#### **Question 3: Build and train a CNN model as per the above mentioned architecture (10 Marks)**"
   ]
  },
  {
   "cell_type": "code",
   "execution_count": 31,
   "metadata": {
    "id": "Cmi81Gr5sqW-"
   },
   "outputs": [],
   "source": [
    "#Importing losses and optimizers modules\n",
    "from tensorflow.keras import losses\n",
    "from tensorflow.keras import optimizers\n",
    "\n",
    "#Define the function\n",
    "def cnn_model_1():\n",
    "    model = Sequential() \n",
    "    #Add layers as per the architecture mentioned above in the same sequence\n",
    "    model.add(Conv2D(filters=16, kernel_size=(3, 3), padding='same', input_shape=(32,32,1)))\n",
    "    model.add(LeakyReLU(0.1))\n",
    "    model.add(Conv2D(filters=32, kernel_size=(3, 3), padding='same'))\n",
    "    model.add(LeakyReLU(0.1))\n",
    "    model.add(MaxPool2D(pool_size=(2,2)))\n",
    "    model.add(Flatten())\n",
    "    model.add(Dense(32))\n",
    "    model.add(LeakyReLU(0.1))\n",
    "    model.add(Dense(10, activation='softmax'))\n",
    "    \n",
    "    \n",
    "    #declare adam optimizer with learning rate of 0.001 \n",
    "    adam = optimizers.Adam(learning_rate=0.001)\n",
    "    \n",
    "    #compile the model\n",
    "    model.compile(loss='categorical_crossentropy', optimizer=adam, metrics=['accuracy'])\n",
    "    \n",
    "    return model"
   ]
  },
  {
   "cell_type": "code",
   "execution_count": 32,
   "metadata": {
    "id": "bGCUI_xsImnH"
   },
   "outputs": [],
   "source": [
    "#Build the model\n",
    "model_1 = cnn_model_1()"
   ]
  },
  {
   "cell_type": "code",
   "execution_count": 33,
   "metadata": {
    "id": "ckJsLdmdQadZ"
   },
   "outputs": [
    {
     "name": "stdout",
     "output_type": "stream",
     "text": [
      "Model: \"sequential_5\"\n",
      "_________________________________________________________________\n",
      " Layer (type)                Output Shape              Param #   \n",
      "=================================================================\n",
      " conv2d_2 (Conv2D)           (None, 32, 32, 16)        160       \n",
      "                                                                 \n",
      " leaky_re_lu_2 (LeakyReLU)   (None, 32, 32, 16)        0         \n",
      "                                                                 \n",
      " conv2d_3 (Conv2D)           (None, 32, 32, 32)        4640      \n",
      "                                                                 \n",
      " leaky_re_lu_3 (LeakyReLU)   (None, 32, 32, 32)        0         \n",
      "                                                                 \n",
      " max_pooling2d (MaxPooling2D  (None, 16, 16, 32)       0         \n",
      " )                                                               \n",
      "                                                                 \n",
      " flatten (Flatten)           (None, 8192)              0         \n",
      "                                                                 \n",
      " dense (Dense)               (None, 32)                262176    \n",
      "                                                                 \n",
      " leaky_re_lu_4 (LeakyReLU)   (None, 32)                0         \n",
      "                                                                 \n",
      " dense_1 (Dense)             (None, 10)                330       \n",
      "                                                                 \n",
      "=================================================================\n",
      "Total params: 267,306\n",
      "Trainable params: 267,306\n",
      "Non-trainable params: 0\n",
      "_________________________________________________________________\n"
     ]
    }
   ],
   "source": [
    "#Print the model summary\n",
    "model_1.summary()"
   ]
  },
  {
   "cell_type": "code",
   "execution_count": 34,
   "metadata": {
    "id": "3Fy3Dif_zcCk"
   },
   "outputs": [
    {
     "name": "stdout",
     "output_type": "stream",
     "text": [
      "Epoch 1/20\n",
      "1050/1050 [==============================] - 28s 26ms/step - loss: 1.1171 - accuracy: 0.6342 - val_loss: 0.6651 - val_accuracy: 0.8090\n",
      "Epoch 2/20\n",
      "1050/1050 [==============================] - 26s 25ms/step - loss: 0.5671 - accuracy: 0.8372 - val_loss: 0.5603 - val_accuracy: 0.8412\n",
      "Epoch 3/20\n",
      "1050/1050 [==============================] - 26s 25ms/step - loss: 0.4686 - accuracy: 0.8629 - val_loss: 0.5257 - val_accuracy: 0.8479\n",
      "Epoch 4/20\n",
      "1050/1050 [==============================] - 28s 26ms/step - loss: 0.4042 - accuracy: 0.8814 - val_loss: 0.4584 - val_accuracy: 0.8720\n",
      "Epoch 5/20\n",
      "1050/1050 [==============================] - 27s 25ms/step - loss: 0.3559 - accuracy: 0.8939 - val_loss: 0.4728 - val_accuracy: 0.8705\n",
      "Epoch 6/20\n",
      "1050/1050 [==============================] - 25s 24ms/step - loss: 0.3144 - accuracy: 0.9062 - val_loss: 0.4577 - val_accuracy: 0.8750\n",
      "Epoch 7/20\n",
      "1050/1050 [==============================] - 28s 27ms/step - loss: 0.2838 - accuracy: 0.9139 - val_loss: 0.4873 - val_accuracy: 0.8683\n",
      "Epoch 8/20\n",
      "1050/1050 [==============================] - 27s 26ms/step - loss: 0.2508 - accuracy: 0.9243 - val_loss: 0.4627 - val_accuracy: 0.8793\n",
      "Epoch 9/20\n",
      "1050/1050 [==============================] - 27s 26ms/step - loss: 0.2281 - accuracy: 0.9300 - val_loss: 0.4683 - val_accuracy: 0.8776\n",
      "Epoch 10/20\n",
      "1050/1050 [==============================] - 28s 27ms/step - loss: 0.2048 - accuracy: 0.9361 - val_loss: 0.5102 - val_accuracy: 0.8727\n",
      "Epoch 11/20\n",
      "1050/1050 [==============================] - 27s 26ms/step - loss: 0.1855 - accuracy: 0.9432 - val_loss: 0.5418 - val_accuracy: 0.8726\n",
      "Epoch 12/20\n",
      "1050/1050 [==============================] - 26s 25ms/step - loss: 0.1626 - accuracy: 0.9491 - val_loss: 0.5608 - val_accuracy: 0.8757\n",
      "Epoch 13/20\n",
      "1050/1050 [==============================] - 29s 28ms/step - loss: 0.1487 - accuracy: 0.9529 - val_loss: 0.5938 - val_accuracy: 0.8701\n",
      "Epoch 14/20\n",
      "1050/1050 [==============================] - 30s 29ms/step - loss: 0.1359 - accuracy: 0.9567 - val_loss: 0.6077 - val_accuracy: 0.8718\n",
      "Epoch 15/20\n",
      "1050/1050 [==============================] - 30s 29ms/step - loss: 0.1231 - accuracy: 0.9613 - val_loss: 0.6260 - val_accuracy: 0.8717\n",
      "Epoch 16/20\n",
      "1050/1050 [==============================] - 29s 28ms/step - loss: 0.1092 - accuracy: 0.9655 - val_loss: 0.6874 - val_accuracy: 0.8693\n",
      "Epoch 17/20\n",
      "1050/1050 [==============================] - 30s 29ms/step - loss: 0.1023 - accuracy: 0.9673 - val_loss: 0.7013 - val_accuracy: 0.8690\n",
      "Epoch 18/20\n",
      "1050/1050 [==============================] - 30s 29ms/step - loss: 0.0948 - accuracy: 0.9685 - val_loss: 0.7266 - val_accuracy: 0.8693\n",
      "Epoch 19/20\n",
      "1050/1050 [==============================] - 30s 28ms/step - loss: 0.0865 - accuracy: 0.9711 - val_loss: 0.7948 - val_accuracy: 0.8629\n",
      "Epoch 20/20\n",
      "1050/1050 [==============================] - 30s 29ms/step - loss: 0.0825 - accuracy: 0.9723 - val_loss: 0.7996 - val_accuracy: 0.8665\n"
     ]
    }
   ],
   "source": [
    "# Fit the model\n",
    "history_model_1 = model_1.fit(X_train, y_train, epochs=20, validation_split=0.2, batch_size=32, verbose=1)"
   ]
  },
  {
   "cell_type": "markdown",
   "metadata": {
    "id": "tKOckG-KPyLg"
   },
   "source": [
    "### **Plotting the validation and training accuracies**"
   ]
  },
  {
   "cell_type": "markdown",
   "metadata": {
    "id": "sVyQ9Gpge2TI"
   },
   "source": [
    "#### **Question 4: Write your observations on the below plot (2 Marks)**"
   ]
  },
  {
   "cell_type": "code",
   "execution_count": 35,
   "metadata": {
    "colab": {
     "base_uri": "https://localhost:8080/",
     "height": 497
    },
    "id": "lt77zgGMP4yw",
    "outputId": "a1ea1a96-0d43-403d-a192-1a40676c315e"
   },
   "outputs": [
    {
     "data": {
      "image/png": "[encoded data removed]",
      "text/plain": [
       "<Figure size 576x576 with 1 Axes>"
      ]
     },
     "metadata": {
      "needs_background": "light"
     },
     "output_type": "display_data"
    }
   ],
   "source": [
    "# plotting the accuracies\n",
    "\n",
    "dict_hist = history_model_1.history\n",
    "list_ep = [i for i in range(1,21)]\n",
    "\n",
    "plt.figure(figsize = (8,8))\n",
    "plt.plot(list_ep,dict_hist['accuracy'],ls = '--', label = 'accuracy')\n",
    "plt.plot(list_ep,dict_hist['val_accuracy'],ls = '--', label = 'val_accuracy')\n",
    "plt.ylabel('Accuracy')\n",
    "plt.xlabel('Epochs')\n",
    "plt.legend()\n",
    "plt.show()"
   ]
  },
  {
   "cell_type": "markdown",
   "metadata": {
    "id": "pGBbQpLONX7k"
   },
   "source": [
    "**Observations:**\n",
    "\n",
    "- The model is not performing well for the validation set. However, the model is performing extremely well for the training set; this is a case of over-fitting.\n",
    "- The validation set does not improve after less than 5 epochs."
   ]
  },
  {
   "cell_type": "markdown",
   "metadata": {
    "id": "z0qgLMBZm5-K"
   },
   "source": [
    "Let's build another model and see if we can get a better model with generalized performance.\n",
    "\n",
    "First, we need to clear the previous model's history from the keras backend. Also, let's fix the seed again after clearing the backend."
   ]
  },
  {
   "cell_type": "code",
   "execution_count": 36,
   "metadata": {
    "id": "y98BpLxsok_H"
   },
   "outputs": [],
   "source": [
    "#Clearing backend\n",
    "from tensorflow.keras import backend\n",
    "backend.clear_session()"
   ]
  },
  {
   "cell_type": "code",
   "execution_count": 37,
   "metadata": {
    "id": "HbKi93HTolGW"
   },
   "outputs": [],
   "source": [
    "#Fixing the seed for random number generators\n",
    "np.random.seed(42)\n",
    "import random\n",
    "random.seed(42)\n",
    "tf.random.set_seed(42)"
   ]
  },
  {
   "cell_type": "markdown",
   "metadata": {
    "id": "lT6o3TIKuCtk"
   },
   "source": [
    "### **Second Model Architecture**\n",
    "- Write a function that returns a sequential model with the following architecture\n",
    " - First Convolutional layer with **16 filters and kernel size of 3x3**. Use the **'same' padding** and provide an **apt input shape**\n",
    " - Add a **LeakyRelu layer** with the **slope equal to 0.1**\n",
    " - Second Convolutional layer with **32 filters and kernel size of 3x3 with 'same' padding**\n",
    " - Add **LeakyRelu** with the **slope equal to 0.1**\n",
    " - Add a **max-pooling layer** with a **pool size of 2x2**\n",
    " - Add a **BatchNormalization layer**\n",
    " - Third Convolutional layer with **32 filters and kernel size of 3x3 with 'same' padding**\n",
    " - Add a **LeakyRelu layer with slope equal to 0.1**\n",
    " - Fourth Convolutional layer **64 filters and kernel size of 3x3 with 'same' padding** \n",
    " - Add a **LeakyRelu layer with slope equal to 0.1**\n",
    " - Add a **max-pooling layer** with a **pool size of 2x2**\n",
    " - Add a **BatchNormalization layer**\n",
    " - **Flatten** the output from the previous layer\n",
    " - Add a **dense layer with 32 nodes**\n",
    " - Add a **LeakyRelu layer with slope equal to 0.1**\n",
    " - Add a **dropout layer with rate equal to 0.5**\n",
    " - Add the final **output layer with nodes equal to the number of classes** and **softmax activation**\n",
    " - Compile the model with the **categorical_crossentropy loss, adam optimizers (learning_rate = 0.001), and accuracy metric**. Do not fit the model here, just return the compiled model\n",
    "- Call the function and store the model in a new variable\n",
    "- Print the summary of the model.\n",
    "- Fit the model on the train data with a **validation split of 0.2, batch size = 128, verbose = 1, and 30 epochs**. Store the model building history to use later for visualization."
   ]
  },
  {
   "cell_type": "markdown",
   "metadata": {
    "id": "Sr-bwBT2e2TJ"
   },
   "source": [
    "#### **Question 5: Build and train the second CNN model as per the above mentioned architecture (10 Marks)**"
   ]
  },
  {
   "cell_type": "code",
   "execution_count": 39,
   "metadata": {
    "id": "EEPYLFIPnSDP"
   },
   "outputs": [],
   "source": [
    "#Define the function\n",
    "def cnn_model_2():\n",
    "    model = Sequential() \n",
    "    #Add layers as per the architecture mentioned above in the same sequence\n",
    "    model.add(Conv2D(filters=16, kernel_size=(3, 3), padding='same', input_shape=(32,32,1)))\n",
    "    model.add(LeakyReLU(0.1))\n",
    "    model.add(Conv2D(filters=32, kernel_size=(3, 3), padding='same'))\n",
    "    model.add(LeakyReLU(0.1))\n",
    "    model.add(MaxPool2D(pool_size=(2,2)))\n",
    "    model.add(BatchNormalization())\n",
    "    model.add(Conv2D(filters=32, kernel_size=(3, 3), padding='same'))\n",
    "    model.add(LeakyReLU(0.1))\n",
    "    model.add(Conv2D(filters=64, kernel_size=(3, 3), padding='same'))\n",
    "    model.add(LeakyReLU(0.1))\n",
    "    model.add(MaxPool2D(pool_size=(2,2)))\n",
    "    model.add(BatchNormalization())\n",
    "    model.add(Flatten())\n",
    "    model.add(Dense(32))\n",
    "    model.add(LeakyReLU(0.1))\n",
    "    model.add(Dropout(0.5))\n",
    "    model.add(Dense(10, activation='softmax'))\n",
    "    \n",
    "    #declare adam optimizer with learning rate of 0.001 \n",
    "    adam = optimizers.Adam(learning_rate=0.001)\n",
    "    \n",
    "    #compile the model\n",
    "    model.compile(loss='categorical_crossentropy', optimizer=adam, metrics=['accuracy'])\n",
    "    \n",
    "    return model"
   ]
  },
  {
   "cell_type": "code",
   "execution_count": 40,
   "metadata": {
    "id": "AKjDY4plnSFl"
   },
   "outputs": [],
   "source": [
    "# Build the model\n",
    "model_2 = cnn_model_2()"
   ]
  },
  {
   "cell_type": "code",
   "execution_count": 41,
   "metadata": {
    "id": "gz_6SVrU2swZ"
   },
   "outputs": [
    {
     "name": "stdout",
     "output_type": "stream",
     "text": [
      "Model: \"sequential\"\n",
      "_________________________________________________________________\n",
      " Layer (type)                Output Shape              Param #   \n",
      "=================================================================\n",
      " conv2d (Conv2D)             (None, 32, 32, 16)        160       \n",
      "                                                                 \n",
      " leaky_re_lu (LeakyReLU)     (None, 32, 32, 16)        0         \n",
      "                                                                 \n",
      " conv2d_1 (Conv2D)           (None, 32, 32, 32)        4640      \n",
      "                                                                 \n",
      " leaky_re_lu_1 (LeakyReLU)   (None, 32, 32, 32)        0         \n",
      "                                                                 \n",
      " max_pooling2d (MaxPooling2D  (None, 16, 16, 32)       0         \n",
      " )                                                               \n",
      "                                                                 \n",
      " batch_normalization (BatchN  (None, 16, 16, 32)       128       \n",
      " ormalization)                                                   \n",
      "                                                                 \n",
      " conv2d_2 (Conv2D)           (None, 16, 16, 32)        9248      \n",
      "                                                                 \n",
      " leaky_re_lu_2 (LeakyReLU)   (None, 16, 16, 32)        0         \n",
      "                                                                 \n",
      " conv2d_3 (Conv2D)           (None, 16, 16, 64)        18496     \n",
      "                                                                 \n",
      " leaky_re_lu_3 (LeakyReLU)   (None, 16, 16, 64)        0         \n",
      "                                                                 \n",
      " max_pooling2d_1 (MaxPooling  (None, 8, 8, 64)         0         \n",
      " 2D)                                                             \n",
      "                                                                 \n",
      " batch_normalization_1 (Batc  (None, 8, 8, 64)         256       \n",
      " hNormalization)                                                 \n",
      "                                                                 \n",
      " flatten (Flatten)           (None, 4096)              0         \n",
      "                                                                 \n",
      " dense (Dense)               (None, 32)                131104    \n",
      "                                                                 \n",
      " leaky_re_lu_4 (LeakyReLU)   (None, 32)                0         \n",
      "                                                                 \n",
      " dropout (Dropout)           (None, 32)                0         \n",
      "                                                                 \n",
      " dense_1 (Dense)             (None, 10)                330       \n",
      "                                                                 \n",
      "=================================================================\n",
      "Total params: 164,362\n",
      "Trainable params: 164,170\n",
      "Non-trainable params: 192\n",
      "_________________________________________________________________\n"
     ]
    }
   ],
   "source": [
    "#Print the summary\n",
    "model_2.summary()"
   ]
  },
  {
   "cell_type": "code",
   "execution_count": 42,
   "metadata": {
    "id": "IQ0Sc4R-y-uu"
   },
   "outputs": [
    {
     "name": "stdout",
     "output_type": "stream",
     "text": [
      "Epoch 1/30\n",
      "263/263 [==============================] - 42s 160ms/step - loss: 1.4627 - accuracy: 0.5003 - val_loss: 3.0022 - val_accuracy: 0.1720\n",
      "Epoch 2/30\n",
      "263/263 [==============================] - 39s 148ms/step - loss: 0.6964 - accuracy: 0.7826 - val_loss: 0.7977 - val_accuracy: 0.7489\n",
      "Epoch 3/30\n",
      "263/263 [==============================] - 42s 161ms/step - loss: 0.5591 - accuracy: 0.8299 - val_loss: 0.5339 - val_accuracy: 0.8487\n",
      "Epoch 4/30\n",
      "263/263 [==============================] - 41s 155ms/step - loss: 0.4955 - accuracy: 0.8463 - val_loss: 0.4261 - val_accuracy: 0.8744\n",
      "Epoch 5/30\n",
      "263/263 [==============================] - 39s 150ms/step - loss: 0.4483 - accuracy: 0.8655 - val_loss: 0.4223 - val_accuracy: 0.8765\n",
      "Epoch 6/30\n",
      "263/263 [==============================] - 38s 146ms/step - loss: 0.4117 - accuracy: 0.8727 - val_loss: 0.4100 - val_accuracy: 0.8862\n",
      "Epoch 7/30\n",
      "263/263 [==============================] - 39s 149ms/step - loss: 0.3782 - accuracy: 0.8825 - val_loss: 0.4200 - val_accuracy: 0.8864\n",
      "Epoch 8/30\n",
      "263/263 [==============================] - 40s 151ms/step - loss: 0.3579 - accuracy: 0.8887 - val_loss: 0.4482 - val_accuracy: 0.8712\n",
      "Epoch 9/30\n",
      "263/263 [==============================] - 40s 152ms/step - loss: 0.3318 - accuracy: 0.8982 - val_loss: 0.3576 - val_accuracy: 0.9045\n",
      "Epoch 10/30\n",
      "263/263 [==============================] - 40s 153ms/step - loss: 0.3201 - accuracy: 0.8988 - val_loss: 0.3650 - val_accuracy: 0.8998\n",
      "Epoch 11/30\n",
      "263/263 [==============================] - 40s 152ms/step - loss: 0.2981 - accuracy: 0.9073 - val_loss: 0.3852 - val_accuracy: 0.9030\n",
      "Epoch 12/30\n",
      "263/263 [==============================] - 42s 160ms/step - loss: 0.2784 - accuracy: 0.9127 - val_loss: 0.4418 - val_accuracy: 0.8967\n",
      "Epoch 13/30\n",
      "263/263 [==============================] - 41s 155ms/step - loss: 0.2755 - accuracy: 0.9134 - val_loss: 0.3731 - val_accuracy: 0.9069\n",
      "Epoch 14/30\n",
      "263/263 [==============================] - 45s 170ms/step - loss: 0.2583 - accuracy: 0.9186 - val_loss: 0.3994 - val_accuracy: 0.9021\n",
      "Epoch 15/30\n",
      "263/263 [==============================] - 44s 167ms/step - loss: 0.2452 - accuracy: 0.9218 - val_loss: 0.3527 - val_accuracy: 0.9039\n",
      "Epoch 16/30\n",
      "263/263 [==============================] - 52s 199ms/step - loss: 0.2367 - accuracy: 0.9238 - val_loss: 0.3806 - val_accuracy: 0.9087\n",
      "Epoch 17/30\n",
      "263/263 [==============================] - 53s 203ms/step - loss: 0.2282 - accuracy: 0.9267 - val_loss: 0.3589 - val_accuracy: 0.9145\n",
      "Epoch 18/30\n",
      "263/263 [==============================] - 47s 179ms/step - loss: 0.2161 - accuracy: 0.9300 - val_loss: 0.4580 - val_accuracy: 0.9039\n",
      "Epoch 19/30\n",
      "263/263 [==============================] - 42s 160ms/step - loss: 0.2085 - accuracy: 0.9325 - val_loss: 0.4001 - val_accuracy: 0.9087\n",
      "Epoch 20/30\n",
      "263/263 [==============================] - 40s 153ms/step - loss: 0.2004 - accuracy: 0.9340 - val_loss: 0.4364 - val_accuracy: 0.9029\n",
      "Epoch 21/30\n",
      "263/263 [==============================] - 40s 152ms/step - loss: 0.1987 - accuracy: 0.9363 - val_loss: 0.4091 - val_accuracy: 0.9096\n",
      "Epoch 22/30\n",
      "263/263 [==============================] - 41s 155ms/step - loss: 0.1850 - accuracy: 0.9393 - val_loss: 0.4487 - val_accuracy: 0.9055\n",
      "Epoch 23/30\n",
      "263/263 [==============================] - 52s 196ms/step - loss: 0.1846 - accuracy: 0.9388 - val_loss: 0.4769 - val_accuracy: 0.9070\n",
      "Epoch 24/30\n",
      "263/263 [==============================] - 44s 168ms/step - loss: 0.1776 - accuracy: 0.9407 - val_loss: 0.4074 - val_accuracy: 0.9076\n",
      "Epoch 25/30\n",
      "263/263 [==============================] - 43s 162ms/step - loss: 0.1674 - accuracy: 0.9450 - val_loss: 0.4095 - val_accuracy: 0.9108\n",
      "Epoch 26/30\n",
      "263/263 [==============================] - 43s 163ms/step - loss: 0.1664 - accuracy: 0.9456 - val_loss: 0.4985 - val_accuracy: 0.8898\n",
      "Epoch 27/30\n",
      "263/263 [==============================] - 41s 155ms/step - loss: 0.1650 - accuracy: 0.9458 - val_loss: 0.4952 - val_accuracy: 0.9000\n",
      "Epoch 28/30\n",
      "263/263 [==============================] - 44s 168ms/step - loss: 0.1601 - accuracy: 0.9479 - val_loss: 0.4486 - val_accuracy: 0.9151\n",
      "Epoch 29/30\n",
      "263/263 [==============================] - 44s 168ms/step - loss: 0.1547 - accuracy: 0.9482 - val_loss: 0.4312 - val_accuracy: 0.9075\n",
      "Epoch 30/30\n",
      "263/263 [==============================] - 42s 161ms/step - loss: 0.1504 - accuracy: 0.9496 - val_loss: 0.4298 - val_accuracy: 0.9094\n"
     ]
    }
   ],
   "source": [
    "# Fit the model\n",
    "history_model_2 = model_2.fit(X_train, y_train, epochs=30, validation_split=0.2, batch_size=128, verbose=1)"
   ]
  },
  {
   "cell_type": "markdown",
   "metadata": {
    "id": "0_f1EXmTe2TK"
   },
   "source": [
    "### **Plotting the validation and training accuracies**"
   ]
  },
  {
   "cell_type": "markdown",
   "metadata": {
    "id": "aC5UbsqXe2TK"
   },
   "source": [
    "#### **Question 6: Write your observations on the below plot (2 Marks)**"
   ]
  },
  {
   "cell_type": "code",
   "execution_count": 44,
   "metadata": {
    "colab": {
     "base_uri": "https://localhost:8080/",
     "height": 497
    },
    "id": "01ig6BrF1KVy",
    "outputId": "07d88750-f1a7-4042-8a52-686764ee9aaf"
   },
   "outputs": [
    {
     "data": {
      "image/png": "[encoded data removed]",
      "text/plain": [
       "<Figure size 576x576 with 1 Axes>"
      ]
     },
     "metadata": {
      "needs_background": "light"
     },
     "output_type": "display_data"
    }
   ],
   "source": [
    "# plotting the accuracies\n",
    "\n",
    "dict_hist = history_model_2.history\n",
    "list_ep = [i for i in range(1,31)]\n",
    "\n",
    "plt.figure(figsize = (8,8))\n",
    "plt.plot(list_ep,dict_hist['accuracy'],ls = '--', label = 'accuracy')\n",
    "plt.plot(list_ep,dict_hist['val_accuracy'],ls = '--', label = 'val_accuracy')\n",
    "plt.ylabel('Accuracy')\n",
    "plt.xlabel('Epochs')\n",
    "plt.legend()\n",
    "plt.show()"
   ]
  },
  {
   "cell_type": "markdown",
   "metadata": {
    "id": "VPW1LlD61RDn"
   },
   "source": [
    "**Observations:**\n",
    "\n",
    "- We see an improvement on the 2nd model compared to the first. The validation accuracy has slightly increased, but the gap between training and validation accuracy is much more comparable than the first model.\n",
    "- The second model shows a significant reduction in overfitting on the training set."
   ]
  },
  {
   "cell_type": "markdown",
   "metadata": {
    "id": "8kuXx9Bvu00f"
   },
   "source": [
    "## **Predictions on the test data**\n",
    "\n",
    "- Make predictions on the test set using the second model\n",
    "- Print the obtained results using the classification report and the confusion matrix\n",
    "- Final observations from the obtained results"
   ]
  },
  {
   "cell_type": "markdown",
   "metadata": {
    "id": "yfZwC9OUe2TL"
   },
   "source": [
    "#### **Question 7: Make predictions on the test data using the second model (1 Mark)**"
   ]
  },
  {
   "cell_type": "code",
   "execution_count": 45,
   "metadata": {
    "id": "xbWMEtTj5Ad0"
   },
   "outputs": [],
   "source": [
    "#Make prediction on the test data using model_2 \n",
    "test_pred = model_2.predict(X_test)\n",
    "\n",
    "test_pred = np.argmax(test_pred, axis=-1)"
   ]
  },
  {
   "cell_type": "markdown",
   "metadata": {
    "id": "i3li8Ib08yts"
   },
   "source": [
    "**Note:** Earlier, we noticed that each entry of the test data is a one-hot encoded vector but to print the classification report and confusion matrix, we must convert each entry of y_test to a single label."
   ]
  },
  {
   "cell_type": "code",
   "execution_count": 46,
   "metadata": {
    "id": "NByu7uAQ8x9P"
   },
   "outputs": [],
   "source": [
    "#Converting each entry to single label from one-hot encoded vector\n",
    "y_test = np.argmax(y_test, axis=-1)"
   ]
  },
  {
   "cell_type": "markdown",
   "metadata": {
    "id": "yHDUEma0e2TM"
   },
   "source": [
    "#### **Question 8: Write your final observations on the performance of the model on the test data (2 Marks)**"
   ]
  },
  {
   "cell_type": "code",
   "execution_count": 47,
   "metadata": {
    "colab": {
     "base_uri": "https://localhost:8080/",
     "height": 620
    },
    "id": "xRddeJ-3EHT1",
    "outputId": "a5f974ce-9724-4f70-80fb-fa90e7412768"
   },
   "outputs": [
    {
     "name": "stdout",
     "output_type": "stream",
     "text": [
      "              precision    recall  f1-score   support\n",
      "\n",
      "           0       0.92      0.94      0.93      1814\n",
      "           1       0.89      0.91      0.90      1828\n",
      "           2       0.95      0.91      0.93      1803\n",
      "           3       0.89      0.89      0.89      1719\n",
      "           4       0.90      0.93      0.92      1812\n",
      "           5       0.92      0.90      0.91      1768\n",
      "           6       0.87      0.91      0.89      1832\n",
      "           7       0.93      0.93      0.93      1808\n",
      "           8       0.94      0.86      0.90      1812\n",
      "           9       0.89      0.91      0.90      1804\n",
      "\n",
      "    accuracy                           0.91     18000\n",
      "   macro avg       0.91      0.91      0.91     18000\n",
      "weighted avg       0.91      0.91      0.91     18000\n",
      "\n"
     ]
    },
    {
     "data": {
      "image/png": "[encoded data removed]",
      "text/plain": [
       "<Figure size 576x360 with 2 Axes>"
      ]
     },
     "metadata": {
      "needs_background": "light"
     },
     "output_type": "display_data"
    }
   ],
   "source": [
    "#importing required functions\n",
    "from sklearn.metrics import classification_report\n",
    "from sklearn.metrics import confusion_matrix\n",
    "\n",
    "#Printing the classification report\n",
    "print(classification_report(y_test, test_pred))\n",
    "\n",
    "#Plotting the heatmap using confusion matrix\n",
    "cm = confusion_matrix(y_test, test_pred)\n",
    "plt.figure(figsize=(8,5))\n",
    "sns.heatmap(cm, annot=True,  fmt='.0f')\n",
    "plt.ylabel('Actual')\n",
    "plt.xlabel('Predicted')\n",
    "plt.show()"
   ]
  },
  {
   "cell_type": "markdown",
   "metadata": {
    "id": "DjErl4GA2u9s"
   },
   "source": [
    "#### **Observations:**\n",
    "\n",
    "- We see a 91% accuracy on the test data which is similar to the accuracy we were getting in validation (hovered around 90%).\n",
    "- The high average for the recall shows that the model is good at identifying the images."
   ]
  },
  {
   "cell_type": "code",
   "execution_count": null,
   "metadata": {},
   "outputs": [],
   "source": []
  }
 ],
 "metadata": {
  "accelerator": "GPU",
  "colab": {
   "collapsed_sections": [
    "8z2Z7-OAs8QG",
    "C8U3DUa3eNsT",
    "8lsux2ZwyTTR",
    "kxODV6HKykuc",
    "Rn5IZYv-e2TC",
    "kzoyeXHOy80N",
    "YP92jacue2TE",
    "yH-gVrzuByNA",
    "Uw8pZcNwe2TG",
    "sVyQ9Gpge2TI",
    "lT6o3TIKuCtk",
    "Sr-bwBT2e2TJ",
    "aC5UbsqXe2TK",
    "8kuXx9Bvu00f",
    "yfZwC9OUe2TL",
    "yHDUEma0e2TM"
   ],
   "name": "CNN_Project_Learner_Notebook_SVHN.ipynb",
   "provenance": []
  },
  "kernelspec": {
   "display_name": "Python 3 (ipykernel)",
   "language": "python",
   "name": "python3"
  },
  "language_info": {
   "codemirror_mode": {
    "name": "ipython",
    "version": 3
   },
   "file_extension": ".py",
   "mimetype": "text/x-python",
   "name": "python",
   "nbconvert_exporter": "python",
   "pygments_lexer": "ipython3",
   "version": "3.9.7"
  }
 },
 "nbformat": 4,
 "nbformat_minor": 1
}
